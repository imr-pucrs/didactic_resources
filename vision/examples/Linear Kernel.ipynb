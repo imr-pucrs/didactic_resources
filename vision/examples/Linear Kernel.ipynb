{
 "cells": [
  {
   "cell_type": "code",
   "execution_count": null,
   "metadata": {
    "collapsed": true
   },
   "outputs": [],
   "source": [
    "%matplotlib inline\n",
    "import cv2\n",
    "import numpy as np\n",
    "import matplotlib.pyplot as plt"
   ]
  },
  {
   "cell_type": "code",
   "execution_count": null,
   "metadata": {},
   "outputs": [],
   "source": [
    "img = cv2.imread('images/eye.jpg')\n",
    "\n",
    "def show_rgb(img):\n",
    "    rgbimg = cv2.cvtColor(img, cv2.COLOR_BGR2RGB)\n",
    "    plt.imshow(rgbimg)\n",
    "    plt.show()\n",
    "    \n",
    "show_rgb(img)"
   ]
  },
  {
   "cell_type": "code",
   "execution_count": null,
   "metadata": {
    "collapsed": true
   },
   "outputs": [],
   "source": [
    "def apply_filter(image, kernel):\n",
    "    kernel = np.array(kernel)\n",
    "    res = cv2.filter2D(image, -1, kernel) #-1: ddepth\n",
    "    return res"
   ]
  },
  {
   "cell_type": "markdown",
   "metadata": {},
   "source": [
    "## Linear Filter"
   ]
  },
  {
   "cell_type": "code",
   "execution_count": null,
   "metadata": {},
   "outputs": [],
   "source": [
    "linear_filter = [\n",
    "    [  0,   0,   0,   0,   0,   0,   0,   0,   0],\n",
    "    [  0,   0,   0,   0,   0,   0,   0,   0,   0],\n",
    "    [  0,   0,   0,   0,   0,   0,   0,   0,   0],\n",
    "    [  0,   0,   0,   0,   0,   0,   0,   0,   0],\n",
    "    [  0,   0,   0,   0,   1,   0,   0,   0,   0],\n",
    "    [  0,   0,   0,   0,   0,   0,   0,   0,   0],\n",
    "    [  0,   0,   0,   0,   0,   0,   0,   0,   0],\n",
    "    [  0,   0,   0,   0,   0,   0,   0,   0,   0],\n",
    "    [  0,   0,   0,   0,   0,   0,   0,   0,   0]\n",
    "]\n",
    "\n",
    "img_filtered = apply_filter(img, linear_filter)\n",
    "show_rgb(img_filtered)"
   ]
  },
  {
   "cell_type": "code",
   "execution_count": null,
   "metadata": {},
   "outputs": [],
   "source": [
    "linear_filter = [\n",
    "    [  0,   0,   0,   0,   0,   0,   0,   0,   0],\n",
    "    [  0,   0,   0,   0,   0,   0,   0,   0,   0],\n",
    "    [  0,   0,   0,   0,   0,   0,   0,   0,   0],\n",
    "    [  0,   0,   0,   0,   0,   0,   0,   0,   0],\n",
    "    [  1,   0,   0,   0,   0,   0,   0,   0,   0],\n",
    "    [  0,   0,   0,   0,   0,   0,   0,   0,   0],\n",
    "    [  0,   0,   0,   0,   0,   0,   0,   0,   0],\n",
    "    [  0,   0,   0,   0,   0,   0,   0,   0,   0],\n",
    "    [  0,   0,   0,   0,   0,   0,   0,   0,   0]\n",
    "]\n",
    "\n",
    "img_filtered = img\n",
    "for k in range(3):\n",
    "    img_filtered = apply_filter(img_filtered, linear_filter)\n",
    "show_rgb(img_filtered)"
   ]
  },
  {
   "cell_type": "code",
   "execution_count": null,
   "metadata": {},
   "outputs": [],
   "source": [
    "linear_filter = [\n",
    "    [  0,   0,   0,   0,   0,   0,   0,   0,   0],\n",
    "    [  0,   0,   0,   0,   0,   0,   0,   0,   0],\n",
    "    [  0,   0,   0,   0,   0,   0,   0,   0,   0],\n",
    "    [  0,   0,   0,   0,   0,   0,   0,   0,   0],\n",
    "    [0.1, 0.1, 0.1, 0.1, 0.2, 0.1, 0.1, 0.1, 0.1],\n",
    "    [  0,   0,   0,   0,   0,   0,   0,   0,   0],\n",
    "    [  0,   0,   0,   0,   0,   0,   0,   0,   0],\n",
    "    [  0,   0,   0,   0,   0,   0,   0,   0,   0],\n",
    "    [  0,   0,   0,   0,   0,   0,   0,   0,   0]\n",
    "]\n",
    "\n",
    "img_filtered = apply_filter(img, linear_filter)\n",
    "show_rgb(img_filtered)"
   ]
  },
  {
   "cell_type": "code",
   "execution_count": null,
   "metadata": {},
   "outputs": [],
   "source": [
    "linear_filter = [\n",
    "    [  0,   0,   0,   0, 0.1,   0,   0,   0,   0],\n",
    "    [  0,   0,   0,   0, 0.1,   0,   0,   0,   0],\n",
    "    [  0,   0,   0,   0, 0.1,   0,   0,   0,   0],\n",
    "    [  0,   0,   0,   0, 0.1,   0,   0,   0,   0],\n",
    "    [  0,   0,   0,   0, 0.2,   0,   0,   0,   0],\n",
    "    [  0,   0,   0,   0, 0.1,   0,   0,   0,   0],\n",
    "    [  0,   0,   0,   0, 0.1,   0,   0,   0,   0],\n",
    "    [  0,   0,   0,   0, 0.1,   0,   0,   0,   0],\n",
    "    [  0,   0,   0,   0, 0.1,   0,   0,   0,   0]\n",
    "]\n",
    "\n",
    "img_filtered = apply_filter(img, linear_filter)\n",
    "show_rgb(img_filtered)"
   ]
  },
  {
   "cell_type": "markdown",
   "metadata": {},
   "source": [
    "## Composed Kernel"
   ]
  },
  {
   "cell_type": "code",
   "execution_count": null,
   "metadata": {},
   "outputs": [],
   "source": [
    "first_filter = [\n",
    "    [  0,   0,   0,   0,   0,   0,   0,   0,   0],\n",
    "    [  0,   0,   0,   0,   0,   0,   0,   0,   0],\n",
    "    [  0,   0,   0,   0,   0,   0,   0,   0,   0],\n",
    "    [  0,   0,   0,   0,   0,   0,   0,   0,   0],\n",
    "    [  0,   0,   0,   0,   2,   0,   0,   0,   0],\n",
    "    [  0,   0,   0,   0,   0,   0,   0,   0,   0],\n",
    "    [  0,   0,   0,   0,   0,   0,   0,   0,   0],\n",
    "    [  0,   0,   0,   0,   0,   0,   0,   0,   0],\n",
    "    [  0,   0,   0,   0,   0,   0,   0,   0,   0]\n",
    "]\n",
    "\n",
    "second_filter = [\n",
    "    [  0,   0,   0,   0,   0,   0,   0,   0,   0],\n",
    "    [  0,   0,   0,   0,   0,   0,   0,   0,   0],\n",
    "    [  0,   0,   0,   0,   0,   0,   0,   0,   0],\n",
    "    [  0,   0,   0,   0,   0,   0,   0,   0,   0],\n",
    "    [0.1, 0.1, 0.1, 0.1, 0.2, 0.1, 0.1, 0.1, 0.1],\n",
    "    [  0,   0,   0,   0,   0,   0,   0,   0,   0],\n",
    "    [  0,   0,   0,   0,   0,   0,   0,   0,   0],\n",
    "    [  0,   0,   0,   0,   0,   0,   0,   0,   0],\n",
    "    [  0,   0,   0,   0,   0,   0,   0,   0,   0]\n",
    "]\n",
    "\n",
    "composed_kernel = np.array(first_filter) - np.array(second_filter)\n",
    "img_filtered = apply_filter(img, composed_kernel)\n",
    "show_rgb(img_filtered)"
   ]
  },
  {
   "cell_type": "code",
   "execution_count": null,
   "metadata": {
    "collapsed": true
   },
   "outputs": [],
   "source": []
  }
 ],
 "metadata": {
  "kernelspec": {
   "display_name": "Python 2",
   "language": "python",
   "name": "python2"
  },
  "language_info": {
   "codemirror_mode": {
    "name": "ipython",
    "version": 2
   },
   "file_extension": ".py",
   "mimetype": "text/x-python",
   "name": "python",
   "nbconvert_exporter": "python",
   "pygments_lexer": "ipython2",
   "version": "2.7.14"
  }
 },
 "nbformat": 4,
 "nbformat_minor": 1
}
