{
 "cells": [
  {
   "cell_type": "markdown",
   "metadata": {},
   "source": [
    "# Application of Padding in images using OpenCV\n",
    "Here we present some examples of the application of different paddings in images using OpenCV."
   ]
  },
  {
   "cell_type": "code",
   "execution_count": null,
   "metadata": {
    "collapsed": true
   },
   "outputs": [],
   "source": [
    "%matplotlib inline\n",
    "import cv2\n",
    "import numpy as np\n",
    "import matplotlib.pyplot as plt\n",
    "from scipy.signal import convolve2d"
   ]
  },
  {
   "cell_type": "markdown",
   "metadata": {},
   "source": [
    "### - Padding FULL"
   ]
  },
  {
   "cell_type": "code",
   "execution_count": null,
   "metadata": {},
   "outputs": [],
   "source": [
    "image = np.array([\n",
    "    [1, 1, 1, 1, 1, 1, 1, 1],\n",
    "    [1, 1, 1, 1, 1, 1, 1, 1],\n",
    "    [1, 1, 1, 1, 1, 1, 1, 1],\n",
    "    [1, 1, 1, 1, 1, 1, 1, 1],\n",
    "    [0, 0, 0, 0, 0, 0, 0, 0],\n",
    "    [0, 0, 0, 0, 0, 0, 0, 0],\n",
    "    [0, 0, 0, 0, 0, 0, 0, 0],\n",
    "    [0, 0, 0, 0, 0, 0, 0, 0]\n",
    "])\n",
    "\n",
    "kernel = np.array([\n",
    "    [1, 2, 3],\n",
    "    [4, 5, 6],\n",
    "    [7, 8, 9]\n",
    "])\n",
    "\n",
    "print('Shape of initial matrix: (%d, %d)' % (image.shape))\n",
    "\n",
    "result = convolve2d(image, kernel, mode='full', fillvalue=0.0)\n",
    "print('Shape of final matrix: (%d, %d)' % (result.shape))\n",
    "print('')\n",
    "print(result)"
   ]
  },
  {
   "cell_type": "markdown",
   "metadata": {},
   "source": [
    "### - Padding SAME"
   ]
  },
  {
   "cell_type": "code",
   "execution_count": null,
   "metadata": {},
   "outputs": [],
   "source": [
    "image = np.array([\n",
    "    [1, 1, 1, 1, 1, 1, 1, 1],\n",
    "    [1, 1, 1, 1, 1, 1, 1, 1],\n",
    "    [1, 1, 1, 1, 1, 1, 1, 1],\n",
    "    [1, 1, 1, 1, 1, 1, 1, 1],\n",
    "    [0, 0, 0, 0, 0, 0, 0, 0],\n",
    "    [0, 0, 0, 0, 0, 0, 0, 0],\n",
    "    [0, 0, 0, 0, 0, 0, 0, 0],\n",
    "    [0, 0, 0, 0, 0, 0, 0, 0]\n",
    "])\n",
    "\n",
    "kernel = np.array([\n",
    "    [1, 2, 3],\n",
    "    [4, 5, 6],\n",
    "    [7, 8, 9]\n",
    "])\n",
    "\n",
    "print('Shape of initial matrix: (%d, %d)' % (image.shape))\n",
    "\n",
    "result = convolve2d(image, kernel, mode='same', fillvalue=0.0)\n",
    "print('Shape of final matrix: (%d, %d)' % (result.shape))\n",
    "print('')\n",
    "print(result)"
   ]
  },
  {
   "cell_type": "markdown",
   "metadata": {},
   "source": [
    "### - Padding VALID"
   ]
  },
  {
   "cell_type": "code",
   "execution_count": null,
   "metadata": {},
   "outputs": [],
   "source": [
    "image = np.array([\n",
    "    [1, 1, 1, 1, 1, 1, 1, 1],\n",
    "    [1, 1, 1, 1, 1, 1, 1, 1],\n",
    "    [1, 1, 1, 1, 1, 1, 1, 1],\n",
    "    [1, 1, 1, 1, 1, 1, 1, 1],\n",
    "    [0, 0, 0, 0, 0, 0, 0, 0],\n",
    "    [0, 0, 0, 0, 0, 0, 0, 0],\n",
    "    [0, 0, 0, 0, 0, 0, 0, 0],\n",
    "    [0, 0, 0, 0, 0, 0, 0, 0]\n",
    "])\n",
    "\n",
    "kernel = np.array([\n",
    "    [1, 2, 3],\n",
    "    [4, 5, 6],\n",
    "    [7, 8, 9]\n",
    "])\n",
    "\n",
    "print('Shape of initial matrix: (%d, %d)' % (image.shape))\n",
    "\n",
    "result = convolve2d(image, kernel, mode='valid', fillvalue=0.0)\n",
    "print('Shape of final matrix: (%d, %d)' % (result.shape))\n",
    "print('')\n",
    "print(result)"
   ]
  },
  {
   "cell_type": "markdown",
   "metadata": {},
   "source": [
    "## Border Expansion"
   ]
  },
  {
   "cell_type": "code",
   "execution_count": null,
   "metadata": {},
   "outputs": [],
   "source": [
    "img = cv2.imread('images/eye.jpg')\n",
    "\n",
    "def show_rgb(img):\n",
    "    rgbimg = cv2.cvtColor(img, cv2.COLOR_BGR2RGB)\n",
    "    plt.imshow(rgbimg)\n",
    "    plt.show()\n",
    "    \n",
    "show_rgb(img)"
   ]
  },
  {
   "cell_type": "markdown",
   "metadata": {},
   "source": [
    "## Padding function\n",
    "\n",
    "Create a function with different types of padding, using always the same size to the border up, down, left and right"
   ]
  },
  {
   "cell_type": "code",
   "execution_count": null,
   "metadata": {
    "collapsed": true
   },
   "outputs": [],
   "source": [
    "def apply_padding(img, border=10, mode='reflect'):\n",
    "    \"\"\"\n",
    "    cv2.copyMakeBorder(image, top=10, bottom=10, left=10, right=10, borderType=TYPE)\n",
    "    \"\"\"\n",
    "    if mode == 'reflect':\n",
    "        res = cv2.copyMakeBorder(img, border, border, border, border, cv2.BORDER_REFLECT)\n",
    "    elif mode == 'reflect_101':\n",
    "        res = cv2.copyMakeBorder(img, border, border, border, border, cv2.BORDER_REFLECT_101)\n",
    "    elif mode == 'wrap':\n",
    "        res = cv2.copyMakeBorder(img, border, border, border, border, cv2.BORDER_WRAP)\n",
    "    elif mode == 'constant':\n",
    "        res = cv2.copyMakeBorder(img, border, border, border, border, cv2.BORDER_CONSTANT, value=[0,0,0])\n",
    "    elif mode == 'replicate':\n",
    "        res = cv2.copyMakeBorder(img, border, border, border, border, cv2.BORDER_REPLICATE)\n",
    "    return res"
   ]
  },
  {
   "cell_type": "code",
   "execution_count": null,
   "metadata": {},
   "outputs": [],
   "source": [
    "pad = ['reflect', 'wrap', 'constant', 'replicate']\n",
    "\n",
    "#insert images in a 2x2 plot\n",
    "count = 0\n",
    "fig = plt.figure()\n",
    "\n",
    "for icol in range(2):\n",
    "    for irow in range(2):\n",
    "        ax1 = fig.add_subplot(2, 2, count+1)\n",
    "        res = apply_padding(img, border=20, mode=pad[count])\n",
    "        res = cv2.cvtColor(res, cv2.COLOR_BGR2RGB)\n",
    "        ax1.imshow(res)\n",
    "        count += 1\n",
    "plt.show()"
   ]
  }
 ],
 "metadata": {
  "kernelspec": {
   "display_name": "Python 2",
   "language": "python",
   "name": "python2"
  },
  "language_info": {
   "codemirror_mode": {
    "name": "ipython",
    "version": 2
   },
   "file_extension": ".py",
   "mimetype": "text/x-python",
   "name": "python",
   "nbconvert_exporter": "python",
   "pygments_lexer": "ipython2",
   "version": "2.7.14"
  }
 },
 "nbformat": 4,
 "nbformat_minor": 1
}
