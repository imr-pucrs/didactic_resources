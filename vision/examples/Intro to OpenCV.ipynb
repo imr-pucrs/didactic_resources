{
 "cells": [
  {
   "cell_type": "markdown",
   "metadata": {},
   "source": [
    "# Introduction to OpenCV using Python\n",
    "\n",
    "In this file we read and check properties of an image and then apply a mask to select a certain color."
   ]
  },
  {
   "cell_type": "code",
   "execution_count": null,
   "metadata": {
    "collapsed": true
   },
   "outputs": [],
   "source": [
    "%matplotlib inline\n",
    "import cv2\n",
    "import numpy as np\n",
    "import matplotlib.pyplot as plt"
   ]
  },
  {
   "cell_type": "code",
   "execution_count": null,
   "metadata": {},
   "outputs": [],
   "source": [
    "# read image\n",
    "img = cv2.imread('images/circles.png')\n",
    "# show image\n",
    "plt.imshow(img)\n",
    "plt.show()"
   ]
  },
  {
   "cell_type": "markdown",
   "metadata": {},
   "source": [
    "## Channels in OpenCV and Matplotlib\n",
    "\n",
    "There is a difference between OpenCV and Matplotlib in the way they work with channels. While Matplotlib works with RGB channels (RED-BLUE-GREEN respectively), OpenCV works with BGR channels (BLUE-GREEN-RED respectively). Thus, in order to show the image as it is, we first have to change the order of the channels."
   ]
  },
  {
   "cell_type": "code",
   "execution_count": null,
   "metadata": {},
   "outputs": [],
   "source": [
    "def show_rgb(img):\n",
    "    # Change the order of the channels\n",
    "    rgbimg = cv2.cvtColor(img, cv2.COLOR_BGR2RGB)\n",
    "    plt.imshow(rgbimg)\n",
    "    plt.show()\n",
    "    \n",
    "show_rgb(img)"
   ]
  },
  {
   "cell_type": "markdown",
   "metadata": {},
   "source": [
    "## Verifying image properties\n",
    "\n",
    "Using OpenCV we can access the image properties such as number of channels, size of the image and color depth."
   ]
  },
  {
   "cell_type": "code",
   "execution_count": null,
   "metadata": {},
   "outputs": [],
   "source": [
    "print('Shape of the image (width, height, channels): (%d, %d, %d)' % img.shape)\n",
    "\n",
    "#split the image into different channels\n",
    "channels = cv2.split(img)\n",
    "for i, ch in enumerate(channels):\n",
    "    print('Minimum value of the channel %d: %d' % (i, np.amin(ch)))\n",
    "    print('Maximum value of the channel %d: %d' % (i, np.amax(ch)))\n",
    "    print('')\n",
    "\n",
    "print('Type of each channel %s' % type(np.amin(ch)))"
   ]
  },
  {
   "cell_type": "markdown",
   "metadata": {},
   "source": [
    "## Verifying the brightness of each channel\n",
    "\n",
    "Checking the brightness can give us an idea of how colors are composed."
   ]
  },
  {
   "cell_type": "code",
   "execution_count": null,
   "metadata": {},
   "outputs": [],
   "source": [
    "print('Original image')\n",
    "show_rgb(img)\n",
    "\n",
    "ch_names = ['BLUE', 'GREEN', 'RED']\n",
    "channels = cv2.split(img)\n",
    "for i, ch in enumerate(channels):\n",
    "    print('Channel: %s' % ch_names[i])\n",
    "    plt.imshow(ch, cmap='gray')\n",
    "    plt.show()"
   ]
  },
  {
   "cell_type": "markdown",
   "metadata": {},
   "source": [
    "## Defining colors in color spaces\n",
    "\n",
    "In order to identify a certain color, we can transform the RGB channels into HSV channels, obtaining HUE, SATURATION AND VALUE. Having the hue channel, we can select the color we want to by varying its value. As OpenCV works with an HSV space of 180 degrees, we select 179 (-10, +10) to the red color, 118 (-10, +10) to the blue color and so on."
   ]
  },
  {
   "cell_type": "code",
   "execution_count": null,
   "metadata": {
    "collapsed": true
   },
   "outputs": [],
   "source": [
    "def standard_colors(color):\n",
    "    \"\"\" method to return an array of HSV values to each color\n",
    "        `lower` means the lowest value of our color and `high`\n",
    "        is the highest value to our color.\n",
    "    \"\"\"\n",
    "    color = color.lower()\n",
    "    if color == 'red':\n",
    "        lower = np.array([169, 100, 100])\n",
    "        upper = np.array([189, 255, 255])\n",
    "    elif color == 'blue':\n",
    "        lower = np.array([108, 100, 100])\n",
    "        upper = np.array([128, 255, 255])\n",
    "    elif color == 'green':\n",
    "        lower = np.array([60, 100, 100])\n",
    "        upper = np.array([80, 255, 255])\n",
    "    elif color == 'orange':\n",
    "        lower = np.array([5, 100, 100])\n",
    "        upper = np.array([15, 255, 255])\n",
    "    elif color == 'purple':\n",
    "        lower = np.array([140, 100, 100])\n",
    "        upper = np.array([160, 255, 255])\n",
    "    elif color == 'yellow':\n",
    "        lower = np.array([20, 100, 100])\n",
    "        upper = np.array([40, 255, 255])\n",
    "    else:\n",
    "        lower = None\n",
    "        upper = None\n",
    "    lower.astype(np.uint8)\n",
    "    upper.astype(np.uint8)\n",
    "    return lower, upper"
   ]
  },
  {
   "cell_type": "markdown",
   "metadata": {},
   "source": [
    "## Creating the mask to our image\n",
    "\n",
    "We select a color by its name and calls `standard_colors` to get the lowest and highest values of HSV to our color. Then, we apply the `inRange` function to get a mask containing only elements with our selected color. The mask is binary where pixels that our color appear contain 1 value and pixels where it does not appear contain 0 value.  "
   ]
  },
  {
   "cell_type": "code",
   "execution_count": null,
   "metadata": {},
   "outputs": [],
   "source": [
    "COLOR = 'yellow'\n",
    "lower, upper = standard_colors(COLOR)\n",
    "\n",
    "# change to HSV channels\n",
    "hsv = cv2.cvtColor(img, cv2.COLOR_BGR2HSV)\n",
    "# get mask to our COLOR\n",
    "mask = cv2.inRange(hsv, lower, upper)\n",
    "\n",
    "#check mask\n",
    "plt.imshow(mask, cmap='gray')\n",
    "plt.show()"
   ]
  },
  {
   "cell_type": "code",
   "execution_count": null,
   "metadata": {},
   "outputs": [],
   "source": [
    "# perform element wise AND between my image and the mask\n",
    "# this operation will keep in the original image only elements\n",
    "# with my selected color\n",
    "masked = cv2.bitwise_and(img, img, mask=mask)\n",
    "show_rgb(masked)"
   ]
  },
  {
   "cell_type": "code",
   "execution_count": null,
   "metadata": {
    "collapsed": true
   },
   "outputs": [],
   "source": []
  }
 ],
 "metadata": {
  "kernelspec": {
   "display_name": "Python 2",
   "language": "python",
   "name": "python2"
  },
  "language_info": {
   "codemirror_mode": {
    "name": "ipython",
    "version": 2
   },
   "file_extension": ".py",
   "mimetype": "text/x-python",
   "name": "python",
   "nbconvert_exporter": "python",
   "pygments_lexer": "ipython2",
   "version": "2.7.14"
  }
 },
 "nbformat": 4,
 "nbformat_minor": 1
}
