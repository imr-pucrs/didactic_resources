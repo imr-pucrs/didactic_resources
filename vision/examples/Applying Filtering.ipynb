{
 "cells": [
  {
   "cell_type": "markdown",
   "metadata": {},
   "source": [
    "# Application of Gaussian Blur and Edge Detection in images using OpenCV\n",
    "\n",
    "Here we present some examples of the application of Gaussian blur edge detection in images using OpenCV."
   ]
  },
  {
   "cell_type": "code",
   "execution_count": null,
   "metadata": {
    "collapsed": true
   },
   "outputs": [],
   "source": [
    "%matplotlib inline\n",
    "import cv2\n",
    "import numpy as np\n",
    "import matplotlib.pyplot as plt"
   ]
  },
  {
   "cell_type": "code",
   "execution_count": null,
   "metadata": {},
   "outputs": [],
   "source": [
    "def show_rgb(img):\n",
    "    # Change the order of the channels\n",
    "    rgbimg = cv2.cvtColor(img, cv2.COLOR_BGR2RGB)\n",
    "    plt.imshow(rgbimg)\n",
    "    plt.show()\n",
    "    \n",
    "# read image\n",
    "img = cv2.imread('images/owl.png')\n",
    "# show image\n",
    "show_rgb(img)"
   ]
  },
  {
   "cell_type": "markdown",
   "metadata": {},
   "source": [
    "## Gaussian Blur"
   ]
  },
  {
   "cell_type": "code",
   "execution_count": null,
   "metadata": {},
   "outputs": [],
   "source": [
    "m = [11, 21, 31, 41]\n",
    "\n",
    "#insert images in a 2x2 plot\n",
    "count = 0\n",
    "fig = plt.figure(figsize=(10,10))\n",
    "\n",
    "for icol in range(2):\n",
    "    for irow in range(2):\n",
    "        ax1 = fig.add_subplot(2, 2, count+1)\n",
    "        blur = cv2.GaussianBlur(img, (m[count], m[count]), 0)\n",
    "        blur = cv2.cvtColor(blur, cv2.COLOR_BGR2RGB)\n",
    "        ax1.imshow(blur)\n",
    "        count += 1"
   ]
  },
  {
   "cell_type": "markdown",
   "metadata": {},
   "source": [
    "## Edge Detector"
   ]
  },
  {
   "cell_type": "code",
   "execution_count": null,
   "metadata": {},
   "outputs": [],
   "source": [
    "img = cv2.imread('images/owl.png')\n",
    "show_rgb(img)"
   ]
  },
  {
   "cell_type": "code",
   "execution_count": null,
   "metadata": {},
   "outputs": [],
   "source": [
    "# first convert the image to grayscale\n",
    "gray = cv2.cvtColor(img, cv2.COLOR_BGR2GRAY)\n",
    "\n",
    "fig = plt.figure(figsize=(10,10))\n",
    "ax1 = fig.add_subplot(2, 2, 1)\n",
    "\n",
    "# apply Sobel in x direction\n",
    "sobelx = cv2.Sobel(gray, cv2.CV_64F, 1, 0, ksize=5) #x=1, y=0, kernel gaussian=5\n",
    "\n",
    "ax1.imshow(sobelx, cmap='gray')\n",
    "ax1 = fig.add_subplot(2, 2, 2)\n",
    "\n",
    "# apply Sobel in x direction\n",
    "sobely = cv2.Sobel(gray, cv2.CV_64F, 0, 1, ksize=5)\n",
    "\n",
    "ax1.imshow(sobely, cmap='gray')\n",
    "plt.show()"
   ]
  },
  {
   "cell_type": "code",
   "execution_count": null,
   "metadata": {},
   "outputs": [],
   "source": [
    "fig = plt.figure(figsize=(5,5))\n",
    "mag = np.hypot(sobelx, sobely)  # magnitude\n",
    "mag *= 255.0 / np.max(mag)      # normalize (Q&D)\n",
    "plt.imshow(mag, cmap = 'gray')\n",
    "plt.show()"
   ]
  },
  {
   "cell_type": "markdown",
   "metadata": {},
   "source": [
    "### Canny Edge Detection"
   ]
  },
  {
   "cell_type": "code",
   "execution_count": null,
   "metadata": {},
   "outputs": [],
   "source": [
    "# lower bound, upper bound\n",
    "fig = plt.figure(figsize=(5,5))\n",
    "edges = cv2.Canny(gray, 50, 200) # minVal and maxVal \n",
    "\n",
    "plt.imshow(edges, cmap='gray')\n",
    "plt.show()"
   ]
  }
 ],
 "metadata": {
  "kernelspec": {
   "display_name": "Python 2",
   "language": "python",
   "name": "python2"
  },
  "language_info": {
   "codemirror_mode": {
    "name": "ipython",
    "version": 2
   },
   "file_extension": ".py",
   "mimetype": "text/x-python",
   "name": "python",
   "nbconvert_exporter": "python",
   "pygments_lexer": "ipython2",
   "version": "2.7.14"
  }
 },
 "nbformat": 4,
 "nbformat_minor": 1
}
