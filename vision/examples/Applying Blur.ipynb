{
 "cells": [
  {
   "cell_type": "markdown",
   "metadata": {},
   "source": [
    "# Application of Blur in images using OpenCV\n",
    "\n",
    "Here we present some examples of the application of blur in images using OpenCV."
   ]
  },
  {
   "cell_type": "code",
   "execution_count": null,
   "metadata": {
    "collapsed": true
   },
   "outputs": [],
   "source": [
    "%matplotlib inline\n",
    "import cv2\n",
    "import numpy as np\n",
    "import matplotlib.pyplot as plt"
   ]
  },
  {
   "cell_type": "code",
   "execution_count": null,
   "metadata": {},
   "outputs": [],
   "source": [
    "def show_rgb(img):\n",
    "    # Change the order of the channels\n",
    "    rgbimg = cv2.cvtColor(img, cv2.COLOR_BGR2RGB)\n",
    "    plt.imshow(rgbimg)\n",
    "    plt.show()\n",
    "    \n",
    "# read image\n",
    "img = cv2.imread('images/eye.jpg')\n",
    "# show image\n",
    "show_rgb(img)"
   ]
  },
  {
   "cell_type": "markdown",
   "metadata": {},
   "source": [
    "# Apply a Gaussian blur\n",
    "\n",
    "Here we test some values of kernel to check the Gaussian blur that each performs. `m` refers to the size of our kernel in number of lines. Thus, `m=3` generates a 3x3 matrix to the kernel. It is important to note that all values of `m` should be odd since there is a central cell in the kernel."
   ]
  },
  {
   "cell_type": "code",
   "execution_count": null,
   "metadata": {},
   "outputs": [],
   "source": [
    "m = [5, 9, 13, 17]\n",
    "\n",
    "#insert images in a 2x2 plot\n",
    "count = 0\n",
    "fig = plt.figure()\n",
    "\n",
    "for icol in range(2):\n",
    "    for irow in range(2):\n",
    "        ax1 = fig.add_subplot(2, 2, count+1)\n",
    "        blur = cv2.GaussianBlur(img, (m[count], m[count]), 0)\n",
    "        blur = cv2.cvtColor(blur, cv2.COLOR_BGR2RGB)\n",
    "        ax1.imshow(blur)\n",
    "        count += 1"
   ]
  },
  {
   "cell_type": "markdown",
   "metadata": {},
   "source": [
    "## Building your own kernel\n",
    "\n",
    "We can also build our own personalised kernel using  `filter2D` function of OpenCV."
   ]
  },
  {
   "cell_type": "code",
   "execution_count": null,
   "metadata": {},
   "outputs": [],
   "source": [
    "def personal_kernel(img, m=5):\n",
    "    \"\"\"\n",
    "    cv2.filter2D(image, ddepth, kernel)\n",
    "         ddepth=-1, the output image will have the same depth as the source.\n",
    "    \"\"\"\n",
    "    kernel = np.ones((m, m), np.float32)/25\n",
    "    res = cv2.filter2D(img, -1, kernel)\n",
    "    return res\n",
    "    \n",
    "blur_mean = personal_kernel(img, m=5)\n",
    "show_rgb(blur_mean)"
   ]
  },
  {
   "cell_type": "code",
   "execution_count": null,
   "metadata": {
    "collapsed": true
   },
   "outputs": [],
   "source": []
  }
 ],
 "metadata": {
  "kernelspec": {
   "display_name": "Python 2",
   "language": "python",
   "name": "python2"
  },
  "language_info": {
   "codemirror_mode": {
    "name": "ipython",
    "version": 2
   },
   "file_extension": ".py",
   "mimetype": "text/x-python",
   "name": "python",
   "nbconvert_exporter": "python",
   "pygments_lexer": "ipython2",
   "version": "2.7.14"
  }
 },
 "nbformat": 4,
 "nbformat_minor": 1
}
