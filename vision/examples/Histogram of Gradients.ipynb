{
 "cells": [
  {
   "cell_type": "markdown",
   "metadata": {},
   "source": [
    "# Compute the Histogram of Gradients (HOG)"
   ]
  },
  {
   "cell_type": "code",
   "execution_count": null,
   "metadata": {
    "collapsed": true
   },
   "outputs": [],
   "source": [
    "%matplotlib inline\n",
    "import cv2\n",
    "import numpy as np\n",
    "import matplotlib.pyplot as plt"
   ]
  },
  {
   "cell_type": "code",
   "execution_count": null,
   "metadata": {},
   "outputs": [],
   "source": [
    "def show_rgb(img):\n",
    "    # Change the order of the channels\n",
    "    rgbimg = cv2.cvtColor(img, cv2.COLOR_BGR2RGB)\n",
    "    plt.imshow(rgbimg)\n",
    "    plt.show()\n",
    "    \n",
    "# read image\n",
    "img = cv2.imread('images/owl.png')\n",
    "# show image\n",
    "show_rgb(img)"
   ]
  },
  {
   "cell_type": "code",
   "execution_count": null,
   "metadata": {},
   "outputs": [],
   "source": [
    "from numpy.linalg import norm\n",
    "def hog(img):\n",
    "    gx = cv2.Sobel(img, cv2.CV_32F, 1, 0)\n",
    "    gy = cv2.Sobel(img, cv2.CV_32F, 0, 1)\n",
    "    mag, ang = cv2.cartToPolar(gx, gy)\n",
    "    bin_n = 9 # Number of bins\n",
    "    bin = np.int32(bin_n*ang/(2*np.pi))\n",
    "    \n",
    "    bin_cells = []\n",
    "    mag_cells = []\n",
    "\n",
    "    cellx = celly = 8\n",
    "\n",
    "    for i in range(0,img.shape[0]/celly):\n",
    "        for j in range(0,img.shape[1]/cellx):\n",
    "            bin_cells.append(bin[i*celly : i*celly+celly, j*cellx : j*cellx+cellx])\n",
    "            mag_cells.append(mag[i*celly : i*celly+celly, j*cellx : j*cellx+cellx])   \n",
    "\n",
    "    hists = [np.bincount(b.ravel(), m.ravel(), bin_n) for b, m in zip(bin_cells, mag_cells)]\n",
    "    hist = np.hstack(hists)\n",
    "\n",
    "    # transform to Hellinger kernel\n",
    "    eps = 1e-7\n",
    "    hist /= hist.sum() + eps\n",
    "    hist = np.sqrt(hist)\n",
    "    hist /= norm(hist) + eps\n",
    "\n",
    "    return hist\n",
    "    \n",
    "hist = hog(img)\n",
    "print(hist.shape)\n",
    "print(hist)"
   ]
  },
  {
   "cell_type": "code",
   "execution_count": null,
   "metadata": {},
   "outputs": [],
   "source": [
    "fig = plt.figure(figsize=(10,10))\n",
    "from skimage import color, feature, exposure\n",
    "gray = color.rgb2gray(img)\n",
    "_, imghog = feature.hog(gray, orientations=9, \n",
    "                        pixels_per_cell=(30, 30), #4, 4 \n",
    "                        cells_per_block=(2, 2), #2, 2\n",
    "                        visualise=True)\n",
    "resc_hog = exposure.rescale_intensity(imghog, in_range=(0, 0.08))\n",
    "plt.imshow(resc_hog, cmap='gray')\n",
    "plt.show()"
   ]
  }
 ],
 "metadata": {
  "kernelspec": {
   "display_name": "Python 2",
   "language": "python",
   "name": "python2"
  },
  "language_info": {
   "codemirror_mode": {
    "name": "ipython",
    "version": 2
   },
   "file_extension": ".py",
   "mimetype": "text/x-python",
   "name": "python",
   "nbconvert_exporter": "python",
   "pygments_lexer": "ipython2",
   "version": "2.7.14"
  }
 },
 "nbformat": 4,
 "nbformat_minor": 1
}
