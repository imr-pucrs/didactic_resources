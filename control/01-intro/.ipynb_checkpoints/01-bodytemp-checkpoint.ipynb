{
 "cells": [
  {
   "cell_type": "markdown",
   "metadata": {},
   "source": [
    "# Human body temperature\n",
    "\n",
    "#### Practical example for open loop and feedback control of thermoregulation in human bodies. \n",
    "\n",
    "#### The process is modelled with a function in the form of:\n",
    "``` y(k) = (T*a*u(k) + y(k-1)) / (1+T*b) ```, where {a,b} are model parameters and T is the process sampling time"
   ]
  },
  {
   "cell_type": "code",
   "execution_count": 55,
   "metadata": {},
   "outputs": [],
   "source": [
    "import matplotlib.pyplot as plt\n",
    "from time import sleep"
   ]
  },
  {
   "cell_type": "markdown",
   "metadata": {},
   "source": [
    "## System modelling and vectors"
   ]
  },
  {
   "cell_type": "code",
   "execution_count": 47,
   "metadata": {},
   "outputs": [],
   "source": [
    "T = 0.1           \n",
    "a,b = 0.5,0.9     \n",
    "r = [0]           # Reference vector\n",
    "y = [0]           # Output vector\n",
    "t = [0]           # Time vector"
   ]
  },
  {
   "cell_type": "markdown",
   "metadata": {},
   "source": [
    "## Open Loop Process"
   ]
  },
  {
   "cell_type": "code",
   "execution_count": 48,
   "metadata": {},
   "outputs": [],
   "source": [
    "def openloop(u):\n",
    "    return (T*a*u + y[-1])/(1+T*b)"
   ]
  },
  {
   "cell_type": "markdown",
   "metadata": {},
   "source": [
    "### Run and plot!"
   ]
  },
  {
   "cell_type": "code",
   "execution_count": 49,
   "metadata": {},
   "outputs": [],
   "source": [
    "while True:\n",
    "    r.append(36.5)            # Body temperature must be maintained at around 36.5 degrees Celsius\n",
    "    y.append(openloop(r[-1]))\n",
    "    sleep(T)\n",
    "    t.append(len(y)*T)\n",
    "    if t[-1] > 5:             # Run for a 5 seconds\n",
    "        break"
   ]
  },
  {
   "cell_type": "code",
   "execution_count": 50,
   "metadata": {},
   "outputs": [
    {
     "data": {
      "image/png": "[encoded data removed]",
      "text/plain": [
       "<Figure size 432x288 with 1 Axes>"
      ]
     },
     "metadata": {},
     "output_type": "display_data"
    }
   ],
   "source": [
    "def plot():\n",
    "    plt.figure()\n",
    "    plt.grid()\n",
    "    plt.xlabel('Time (s)')\n",
    "    plt.ylabel('Temperature (deg. C)')\n",
    "    plt.plot(t,r,'--r',linewidth=2.0)\n",
    "    plt.plot(t,y,linewidth=2.0)\n",
    "\n",
    "plot()"
   ]
  },
  {
   "cell_type": "markdown",
   "metadata": {},
   "source": [
    "## Feedback Control"
   ]
  },
  {
   "cell_type": "code",
   "execution_count": 51,
   "metadata": {},
   "outputs": [],
   "source": [
    "r = [0]           # Reference vector\n",
    "u = [0]           # Control output vector  \n",
    "y = [0]           # Process output vector\n",
    "e = [0]           # Error vector\n",
    "t = [0]           # Time vector"
   ]
  },
  {
   "cell_type": "code",
   "execution_count": 52,
   "metadata": {},
   "outputs": [],
   "source": [
    "def control(r):\n",
    "    c, d = 15, 15    # Controller gains\n",
    "    e.append(r-y[-1])\n",
    "    return (e[-1]*(c+T*d) - c*e[-2] + u[-1])"
   ]
  },
  {
   "cell_type": "markdown",
   "metadata": {},
   "source": [
    "### Run and plot!"
   ]
  },
  {
   "cell_type": "code",
   "execution_count": 53,
   "metadata": {},
   "outputs": [],
   "source": [
    "while True:\n",
    "    r.append(36.5)            # Body temperature must be maintained at around 36.5 degrees Celsius\n",
    "    u.append(control(r[-1]))\n",
    "    y.append(openloop(u[-1]))\n",
    "    sleep(T)\n",
    "    t.append(len(y)*T)\n",
    "    if t[-1] > 5:             # Run for a 5 seconds\n",
    "        break"
   ]
  },
  {
   "cell_type": "code",
   "execution_count": 54,
   "metadata": {},
   "outputs": [
    {
     "data": {
      "image/png": "[encoded data removed]",
      "text/plain": [
       "<Figure size 432x288 with 1 Axes>"
      ]
     },
     "metadata": {},
     "output_type": "display_data"
    }
   ],
   "source": [
    "plot()"
   ]
  },
  {
   "cell_type": "code",
   "execution_count": null,
   "metadata": {},
   "outputs": [],
   "source": []
  }
 ],
 "metadata": {
  "kernelspec": {
   "display_name": "Python 2",
   "language": "python",
   "name": "python2"
  },
  "language_info": {
   "codemirror_mode": {
    "name": "ipython",
    "version": 2
   },
   "file_extension": ".py",
   "mimetype": "text/x-python",
   "name": "python",
   "nbconvert_exporter": "python",
   "pygments_lexer": "ipython2",
   "version": "2.7.12"
  }
 },
 "nbformat": 4,
 "nbformat_minor": 2
}
