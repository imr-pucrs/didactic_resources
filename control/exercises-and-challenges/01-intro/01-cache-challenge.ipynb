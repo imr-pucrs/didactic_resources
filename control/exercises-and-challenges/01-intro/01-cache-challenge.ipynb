{
 "cells": [
  {
   "cell_type": "markdown",
   "metadata": {},
   "source": [
    "# Cache memory hit rate\n",
    "\n",
    "### Challenge: Design a feedback controller for the modelled cache memory hit rate.\n",
    "\n",
    "The hit rate is the percent of times a memory access results in a non-null response (i.e., the desired data is in the cache). As you grow the cache size, so too grows the probability that a desired bit of data is stored in the cache, and vice-versa. Thus, given the open-loop cache model below, you must design a feedback control system to keep the cache hit rate at 60%. As your physical memory has limitations, the cache sizes must be limited between 0 and 100 addresses.\n"
   ]
  },
  {
   "cell_type": "code",
   "execution_count": null,
   "metadata": {},
   "outputs": [],
   "source": [
    "import matplotlib.pyplot as plt\n",
    "from time import sleep"
   ]
  },
  {
   "cell_type": "code",
   "execution_count": null,
   "metadata": {},
   "outputs": [],
   "source": [
    "def plot():\n",
    "    plt.figure()\n",
    "    plt.grid()\n",
    "    plt.xlabel('Time (s)')\n",
    "    plt.ylabel('Hit rate')\n",
    "    plt.plot(t,r,'--r',linewidth=2.0)\n",
    "    plt.plot(t,y,linewidth=2.0)\n",
    "    plt.legend(['Reference', 'Output'])\n",
    "    plt.show()"
   ]
  },
  {
   "cell_type": "markdown",
   "metadata": {},
   "source": [
    "## System Model"
   ]
  },
  {
   "cell_type": "code",
   "execution_count": null,
   "metadata": {},
   "outputs": [],
   "source": [
    "T = 0.001    # Sampling time\n",
    "\n",
    "# You must populate these lists\n",
    "r = [0]\n",
    "u = [0]\n",
    "y = [0]\n",
    "e = [0]\n",
    "t = [0]"
   ]
  },
  {
   "cell_type": "code",
   "execution_count": null,
   "metadata": {},
   "outputs": [],
   "source": [
    "def cache(size):\n",
    "    return size/100.0"
   ]
  },
  {
   "cell_type": "markdown",
   "metadata": {},
   "source": [
    "## Feedback Control"
   ]
  },
  {
   "cell_type": "code",
   "execution_count": null,
   "metadata": {},
   "outputs": [],
   "source": [
    "def control(r):\n",
    "    # Your code here\n",
    "    pass"
   ]
  },
  {
   "cell_type": "code",
   "execution_count": null,
   "metadata": {},
   "outputs": [],
   "source": [
    "while True:\n",
    "    # Your code here\n",
    "    \n",
    "    sleep(T)\n",
    "    t.append((len(t)+1)*T)\n",
    "    if t[-1] > 3:    # Run for 3 seconds\n",
    "        break"
   ]
  },
  {
   "cell_type": "code",
   "execution_count": null,
   "metadata": {},
   "outputs": [],
   "source": [
    "plot()"
   ]
  },
  {
   "cell_type": "code",
   "execution_count": null,
   "metadata": {},
   "outputs": [],
   "source": []
  }
 ],
 "metadata": {
  "kernelspec": {
   "display_name": "Python 2",
   "language": "python",
   "name": "python2"
  },
  "language_info": {
   "codemirror_mode": {
    "name": "ipython",
    "version": 2
   },
   "file_extension": ".py",
   "mimetype": "text/x-python",
   "name": "python",
   "nbconvert_exporter": "python",
   "pygments_lexer": "ipython2",
   "version": "2.7.12"
  }
 },
 "nbformat": 4,
 "nbformat_minor": 2
}
