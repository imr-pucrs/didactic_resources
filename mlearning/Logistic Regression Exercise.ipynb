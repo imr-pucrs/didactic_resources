{
 "cells": [
  {
   "cell_type": "markdown",
   "metadata": {},
   "source": [
    "# Logistic Regression\n",
    "\n",
    "In this exercise, you will build a logistic regression model to predict whether a student gets admitted into a university. Suppose that you are the administrator of a university department and you want to determine each applicant's chance of admission based on their results on two exams. You have historical data from previous applicants that you can use as a training set for logistic regression. For each training example, you have the applicant's scores on two exams and the admissions decision.\n",
    "\n",
    "Your task is to **build a classification model** that estimates an applicant's probability of admission based the scores from those two exams."
   ]
  },
  {
   "cell_type": "markdown",
   "metadata": {},
   "source": [
    "## Logistic Function\n",
    "\n",
    "Before you start with the actual cost function, recall that the logistic regression hypothesis is defined as:\n",
    "\n",
    "$$h_\\theta(x) = g(\\theta^Tx)$$\n",
    "\n",
    "where function $g$ is the sigmoid function. The sigmoid function is defined as:\n",
    "\n",
    "$$g(z) = \\frac{1}{1 + e^{-z}}$$"
   ]
  },
  {
   "cell_type": "markdown",
   "metadata": {},
   "source": [
    "## Cost Function\n",
    "\n",
    "The cost function as a logistic regression hypothesis is defined as:\n",
    "\n",
    "$$J(\\theta) = \\frac{1}{m} \\sum_{i=1}^{m} [ -y^{(i)}\\ log (h_{\\theta}(x^{(i)})) - (1 - y^{(i)})\\ log(1 - h_{\\theta}(x^{(i)})) ]$$"
   ]
  },
  {
   "cell_type": "markdown",
   "metadata": {},
   "source": [
    "## Gradient Descent\n",
    "\n",
    "The gradient of the cost is a vector of the same length as $\\theta$ where the $j$th element (for $j=0, 1,..., n$) is defined as follows:\n",
    "\n",
    "$$\\frac{\\partial J(\\theta)}{\\partial \\theta_j} = \\frac{1}{m} \\sum_{i-1}^{m} (h_{\\theta}(x^{(i)}) - y^{(i)})x_j^{(i)}$$"
   ]
  },
  {
   "cell_type": "markdown",
   "metadata": {},
   "source": [
    "In order to optimize the iteration between Gradient Descent and Cost Function to find the best value of $\\theta$, you may use the SciPy function `opt` from `scipy.optimize` as described below:"
   ]
  },
  {
   "cell_type": "code",
   "execution_count": null,
   "metadata": {
    "collapsed": true
   },
   "outputs": [],
   "source": [
    "import scipy.optimize as opt\n",
    "result = opt.fmin_tnc(func=cost_function, x0=theta, fprime=gradient_descent, args=(X, y))\n",
    "cost_function(result[0], X, y)"
   ]
  },
  {
   "cell_type": "markdown",
   "metadata": {},
   "source": [
    "where `cost_function` is your implementation of the cost function, `gradient_descent` is your implementation of the gradient descent function, `theta` is your initial theta value (for this problem, you may initialize $\\theta$ as with zeros). Finally, `args` receives your (100, 3) and (100, 1) matrices corresponding to the training set and true labels."
   ]
  },
  {
   "cell_type": "markdown",
   "metadata": {},
   "source": [
    "## TIPS\n",
    "\n",
    "- In order to improve computational cost, add 1 values to the X matrix as:\n",
    "\n",
    "```\n",
    "[[1, v1, v2],\n",
    " [1, v3, v4],\n",
    " [1, v5, v6],\n",
    " ...\n",
    "]\n",
    "```\n",
    "\n"
   ]
  },
  {
   "cell_type": "markdown",
   "metadata": {},
   "source": [
    "## STEPS\n",
    "\n",
    "- Load the content of the file data.txt\n",
    "- Plot the values separated by each class to check the distribution of the values\n",
    "- Implement the Sigmoid function\n",
    "- Test the Sigmoid function using values from -10 to 10 and check if it reaches the point (0, 0.5).\n",
    "- Implement the Cost Function\n",
    "- Test the Cost Function using $\\theta=[0., 0., 0]$ :: $J(\\theta)$ should give 0.6931\n",
    "- Implement Gradient Descent \n",
    "- Test Gradient Descent : Gradient should return [-0.1, -12.00921659, -11.26284221]\n",
    "- Apply the SciPy optimization function : this function should return the values of $\\theta$ = [-25.16131859, 0.20623159, 0.20147149]\n",
    "- Test all occurrences of X with this new value of theta and check the number of correct predictions\n"
   ]
  },
  {
   "cell_type": "code",
   "execution_count": 4,
   "metadata": {
    "collapsed": true
   },
   "outputs": [],
   "source": [
    "%matplotlib inline\n",
    "import numpy as np\n",
    "from matplotlib import pyplot as plt"
   ]
  },
  {
   "cell_type": "code",
   "execution_count": 11,
   "metadata": {},
   "outputs": [
    {
     "name": "stdout",
     "output_type": "stream",
     "text": [
      "(100, 2)\n",
      "(100, 1)\n"
     ]
    }
   ],
   "source": [
    "X, y = [], []\n",
    "with open('data/data.txt') as fin:\n",
    "    for line in fin:\n",
    "        arr = line.strip().split(',')\n",
    "        X.append([float(arr[0]), float(arr[1])])\n",
    "        y.append(int(arr[2]))\n",
    "X = np.array(X)\n",
    "y = np.array(y)\n",
    "y = y.reshape((-1, 1))\n",
    "print(X.shape)\n",
    "print(y.shape)"
   ]
  },
  {
   "cell_type": "code",
   "execution_count": 5,
   "metadata": {},
   "outputs": [
    {
     "data": {
      "image/png": "[encoded data removed]",
      "text/plain": [
       "<Figure size 600x600 with 1 Axes>"
      ]
     },
     "metadata": {},
     "output_type": "display_data"
    }
   ],
   "source": [
    "fig = plt.figure(figsize=(6,6))\n",
    "accept, reject = [], []\n",
    "for arr, label in zip(X, y):\n",
    "    if label == 0:\n",
    "        reject.append(arr)\n",
    "    else:\n",
    "        accept.append(arr)\n",
    "accept = np.array(accept)\n",
    "reject = np.array(reject)\n",
    "plt.plot(accept[:,0], accept[:,1], 'ro', label='approved')\n",
    "plt.plot(reject[:,0], reject[:,1], 'bx', label='rejected')\n",
    "plt.legend(loc='upper right')\n",
    "plt.xlabel('Exam 1 score')\n",
    "plt.ylabel('Exam 2 score')\n",
    "plt.show()"
   ]
  },
  {
   "cell_type": "markdown",
   "metadata": {},
   "source": [
    "## Sigmoid Function\n",
    "\n",
    "$$g(z) = \\frac{1}{1 + e^{-z}}$$"
   ]
  },
  {
   "cell_type": "code",
   "execution_count": 7,
   "metadata": {
    "collapsed": true
   },
   "outputs": [],
   "source": [
    "# sigmoid function\n",
    "def sigmoid(z):\n",
    "    return 1 / (1 + np.exp(-z))"
   ]
  },
  {
   "cell_type": "code",
   "execution_count": 8,
   "metadata": {},
   "outputs": [
    {
     "data": {
      "image/png": "[encoded data removed]",
      "text/plain": [
       "<Figure size 1000x600 with 1 Axes>"
      ]
     },
     "metadata": {},
     "output_type": "display_data"
    }
   ],
   "source": [
    "# test sigmoid\n",
    "range_vals = np.arange(-10, 10, step=1)\n",
    "center_line = np.array(20*[0.5])\n",
    "fig, ax = plt.subplots(figsize=(10,6))\n",
    "ax.plot(range_vals, sigmoid(range_vals), 'r')\n",
    "ax.plot(range_vals, center_line, '#000000')\n",
    "plt.show()"
   ]
  },
  {
   "cell_type": "markdown",
   "metadata": {},
   "source": [
    "## Cost Function\n",
    "\n",
    "$$J(\\theta) = \\frac{1}{m} \\sum_{i=1}^{m} [ -y^{(i)}\\ log (h_{\\theta}(x^{(i)})) - (1 - y^{(i)})\\ log(1 - h_{\\theta}(x^{(i)})) ]$$"
   ]
  },
  {
   "cell_type": "code",
   "execution_count": 13,
   "metadata": {
    "collapsed": true
   },
   "outputs": [],
   "source": [
    "def cost_function(theta, X, y):\n",
    "    theta = np.matrix(theta)\n",
    "    X = np.matrix(X)\n",
    "    y = np.matrix(y)\n",
    "    \n",
    "    first_part = np.multiply(-y, np.log(sigmoid(X*theta.T)))\n",
    "    second_part = np.multiply((1 - y), np.log(1 - sigmoid(X*theta.T)))\n",
    "    J = np.sum(first_part - second_part) / len(X)\n",
    "    return J"
   ]
  },
  {
   "cell_type": "code",
   "execution_count": 14,
   "metadata": {},
   "outputs": [
    {
     "name": "stdout",
     "output_type": "stream",
     "text": [
      "0.69314718056\n"
     ]
    }
   ],
   "source": [
    "# Test Cost Function\n",
    "m, n = X.shape\n",
    "X = np.c_[np.ones(m), X] # add a 1 column to X to make computation easier\n",
    "theta = np.zeros(n+1)\n",
    "J = cost_function(theta, X, y)\n",
    "print J"
   ]
  },
  {
   "cell_type": "code",
   "execution_count": null,
   "metadata": {
    "collapsed": true
   },
   "outputs": [],
   "source": []
  }
 ],
 "metadata": {
  "kernelspec": {
   "display_name": "Python 2",
   "language": "python",
   "name": "python2"
  },
  "language_info": {
   "codemirror_mode": {
    "name": "ipython",
    "version": 2
   },
   "file_extension": ".py",
   "mimetype": "text/x-python",
   "name": "python",
   "nbconvert_exporter": "python",
   "pygments_lexer": "ipython2",
   "version": "2.7.14"
  }
 },
 "nbformat": 4,
 "nbformat_minor": 2
}
