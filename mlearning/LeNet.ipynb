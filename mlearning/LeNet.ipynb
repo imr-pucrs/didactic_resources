{
 "cells": [
  {
   "cell_type": "markdown",
   "metadata": {},
   "source": [
    "# LeNet\n",
    "\n",
    "Implementation of LeNet by LeCun et al. [1] in Keras. LeNet has the following structure:\n",
    "\n",
    "<img src=\"images/lenet.png\" width=\"80%\"/>\n",
    "\n",
    "<img src=\"images/lenet_test.gif\"/>\n",
    "\n",
    "A testing of the network by Yann LeCun in 1993 can be watched in [YouTube](https://www.youtube.com/watch?v=FwFduRA_L6Q)\n",
    "\n",
    "The data used in this example can be found in [Kaggle]( https://www.kaggle.com/c/digit-recognizer/data) site.\n",
    "\n",
    "[1] Y. Lecun, L. Bottou, Y. Bengio and P. Haffner, \"Gradient-based learning applied to document recognition,\" in Proceedings of the IEEE, vol. 86, no. 11, pp. 2278-2324, Nov. 1998."
   ]
  },
  {
   "cell_type": "code",
   "execution_count": 1,
   "metadata": {},
   "outputs": [
    {
     "name": "stderr",
     "output_type": "stream",
     "text": [
      "/opt/anaconda/lib/python3.6/site-packages/h5py/__init__.py:36: FutureWarning: Conversion of the second argument of issubdtype from `float` to `np.floating` is deprecated. In future, it will be treated as `np.float64 == np.dtype(float).type`.\n",
      "  from ._conv import register_converters as _register_converters\n",
      "Using TensorFlow backend.\n"
     ]
    }
   ],
   "source": [
    "# Imports\n",
    "import numpy as np\n",
    "import matplotlib.pyplot as plt\n",
    "import pandas as pd\n",
    "\n",
    "import keras \n",
    "from keras.models import Sequential\n",
    "from keras.layers import Conv2D\n",
    "from keras.layers import MaxPooling2D\n",
    "from keras.layers import Flatten\n",
    "from keras.layers import Dense\n",
    "from keras.utils.np_utils import to_categorical"
   ]
  },
  {
   "cell_type": "code",
   "execution_count": 2,
   "metadata": {},
   "outputs": [
    {
     "data": {
      "image/png": "[encoded data removed]",
      "text/plain": [
       "<matplotlib.figure.Figure at 0x7fc6a4f5cc88>"
      ]
     },
     "metadata": {},
     "output_type": "display_data"
    }
   ],
   "source": [
    "train = pd.read_csv('train.csv')\n",
    "test = pd.read_csv('test.csv')\n",
    "\n",
    "Y_train = train[['label']]\n",
    "X_train = train.drop(train.columns[[0]], axis=1)\n",
    "X_test = test\n",
    "\n",
    "#Visualizing the data\n",
    "sample = X_train.iloc[10, :]\n",
    "sample = sample.values.reshape([28,28])\n",
    "plt.imshow(sample, cmap='gray')\n",
    "\n",
    "X_train = np.array(X_train)\n",
    "X_test = np.array(X_test)\n",
    "\n",
    "#Reshape the training and test set\n",
    "X_train = X_train.reshape(X_train.shape[0], 28, 28, 1)\n",
    "X_test = X_test.reshape(X_test.shape[0], 28, 28, 1)\n",
    "\n",
    "#Padding the images by 2 pixels since in the paper input images were 32x32\n",
    "X_train = np.pad(X_train, ((0,0),(2,2),(2,2),(0,0)), 'constant')\n",
    "X_test = np.pad(X_test, ((0,0),(2,2),(2,2),(0,0)), 'constant')\n",
    "\n",
    "#Standardization\n",
    "mean_px = X_train.mean().astype(np.float32)\n",
    "std_px = X_train.std().astype(np.float32)\n",
    "X_train = (X_train - mean_px)/(std_px)\n",
    "\n",
    "#One-hot encoding the labels\n",
    "Y_train = to_categorical(Y_train)"
   ]
  },
  {
   "cell_type": "code",
   "execution_count": 3,
   "metadata": {
    "collapsed": true
   },
   "outputs": [],
   "source": [
    "model = Sequential()\n",
    "#Conv Layer 1\n",
    "model.add(Conv2D(filters=6, \n",
    "                 kernel_size=5, \n",
    "                 strides=1, \n",
    "                 activation='relu', \n",
    "                 input_shape=(32,32,1)))\n",
    "#Pooling layer 1\n",
    "model.add(MaxPooling2D(pool_size=2, \n",
    "                       strides=2))\n",
    "#Conv Layer 2\n",
    "model.add(Conv2D(filters=16, \n",
    "                 kernel_size=5, \n",
    "                 strides=1, \n",
    "                 activation='relu', \n",
    "                 input_shape=(14,14,6)))\n",
    "#Pooling Layer 2\n",
    "model.add(MaxPooling2D(pool_size=2, \n",
    "                       strides=2))\n",
    "#Flatten\n",
    "model.add(Flatten())\n",
    "#Fully connected layer 1\n",
    "model.add(Dense(units=120, \n",
    "                activation='relu'))\n",
    "#Fully connected layer 2\n",
    "model.add(Dense(units=84, \n",
    "                activation='relu'))\n",
    "#Output Layer\n",
    "model.add(Dense(units=10, \n",
    "                activation='softmax'))\n",
    "model.compile(optimizer='adam', \n",
    "              loss='categorical_crossentropy', \n",
    "              metrics=['accuracy'])"
   ]
  },
  {
   "cell_type": "code",
   "execution_count": 4,
   "metadata": {},
   "outputs": [
    {
     "name": "stdout",
     "output_type": "stream",
     "text": [
      "Epoch 1/42\n",
      "10/10 [==============================] - 16s 2s/step - loss: 1.9122 - acc: 0.4581\n",
      "Epoch 2/42\n",
      "10/10 [==============================] - 4s 438ms/step - loss: 0.8769 - acc: 0.7849\n",
      "Epoch 3/42\n",
      "10/10 [==============================] - 4s 416ms/step - loss: 0.3902 - acc: 0.8835\n",
      "Epoch 4/42\n",
      "10/10 [==============================] - 4s 436ms/step - loss: 0.2737 - acc: 0.9177\n",
      "Epoch 5/42\n",
      "10/10 [==============================] - 4s 420ms/step - loss: 0.2127 - acc: 0.9362\n",
      "Epoch 6/42\n",
      "10/10 [==============================] - 4s 434ms/step - loss: 0.1702 - acc: 0.9499\n",
      "Epoch 7/42\n",
      "10/10 [==============================] - 4s 417ms/step - loss: 0.1398 - acc: 0.9592\n",
      "Epoch 8/42\n",
      "10/10 [==============================] - 4s 417ms/step - loss: 0.1172 - acc: 0.9653\n",
      "Epoch 9/42\n",
      "10/10 [==============================] - 4s 411ms/step - loss: 0.1002 - acc: 0.9706\n",
      "Epoch 10/42\n",
      "10/10 [==============================] - 4s 437ms/step - loss: 0.0871 - acc: 0.9741\n",
      "Epoch 11/42\n",
      "10/10 [==============================] - 4s 420ms/step - loss: 0.0769 - acc: 0.9770\n",
      "Epoch 12/42\n",
      "10/10 [==============================] - 4s 430ms/step - loss: 0.0687 - acc: 0.9798\n",
      "Epoch 13/42\n",
      "10/10 [==============================] - 4s 425ms/step - loss: 0.0619 - acc: 0.9820\n",
      "Epoch 14/42\n",
      "10/10 [==============================] - 4s 415ms/step - loss: 0.0561 - acc: 0.9837\n",
      "Epoch 15/42\n",
      "10/10 [==============================] - 4s 430ms/step - loss: 0.0511 - acc: 0.9851\n",
      "Epoch 16/42\n",
      "10/10 [==============================] - 4s 426ms/step - loss: 0.0468 - acc: 0.9863\n",
      "Epoch 17/42\n",
      "10/10 [==============================] - 4s 422ms/step - loss: 0.0429 - acc: 0.9878\n",
      "Epoch 18/42\n",
      "10/10 [==============================] - 4s 419ms/step - loss: 0.0395 - acc: 0.9889\n",
      "Epoch 19/42\n",
      "10/10 [==============================] - 4s 414ms/step - loss: 0.0366 - acc: 0.9896\n",
      "Epoch 20/42\n",
      "10/10 [==============================] - 4s 423ms/step - loss: 0.0339 - acc: 0.9905\n",
      "Epoch 21/42\n",
      "10/10 [==============================] - 4s 425ms/step - loss: 0.0314 - acc: 0.9912\n",
      "Epoch 22/42\n",
      "10/10 [==============================] - 4s 413ms/step - loss: 0.0291 - acc: 0.9919\n",
      "Epoch 23/42\n",
      "10/10 [==============================] - 4s 425ms/step - loss: 0.0272 - acc: 0.9925\n",
      "Epoch 24/42\n",
      "10/10 [==============================] - 4s 429ms/step - loss: 0.0253 - acc: 0.9933\n",
      "Epoch 25/42\n",
      "10/10 [==============================] - 4s 414ms/step - loss: 0.0239 - acc: 0.9938\n",
      "Epoch 26/42\n",
      "10/10 [==============================] - 4s 430ms/step - loss: 0.0222 - acc: 0.9943\n",
      "Epoch 27/42\n",
      "10/10 [==============================] - 4s 407ms/step - loss: 0.0206 - acc: 0.9949\n",
      "Epoch 28/42\n",
      "10/10 [==============================] - 4s 418ms/step - loss: 0.0192 - acc: 0.9953\n",
      "Epoch 29/42\n",
      "10/10 [==============================] - 4s 412ms/step - loss: 0.0179 - acc: 0.9957\n",
      "Epoch 30/42\n",
      "10/10 [==============================] - 4s 419ms/step - loss: 0.0167 - acc: 0.9960\n",
      "Epoch 31/42\n",
      "10/10 [==============================] - 4s 410ms/step - loss: 0.0160 - acc: 0.9962\n",
      "Epoch 32/42\n",
      "10/10 [==============================] - 4s 432ms/step - loss: 0.0147 - acc: 0.9966\n",
      "Epoch 33/42\n",
      "10/10 [==============================] - 4s 419ms/step - loss: 0.0136 - acc: 0.9971\n",
      "Epoch 34/42\n",
      "10/10 [==============================] - 4s 416ms/step - loss: 0.0125 - acc: 0.9974\n",
      "Epoch 35/42\n",
      "10/10 [==============================] - 4s 441ms/step - loss: 0.0116 - acc: 0.9977\n",
      "Epoch 36/42\n",
      "10/10 [==============================] - 4s 425ms/step - loss: 0.0108 - acc: 0.9980\n",
      "Epoch 37/42\n",
      "10/10 [==============================] - 4s 427ms/step - loss: 0.0100 - acc: 0.9983\n",
      "Epoch 38/42\n",
      "10/10 [==============================] - 4s 413ms/step - loss: 0.0093 - acc: 0.9984\n",
      "Epoch 39/42\n",
      "10/10 [==============================] - 4s 435ms/step - loss: 0.0086 - acc: 0.9987\n",
      "Epoch 40/42\n",
      "10/10 [==============================] - 4s 420ms/step - loss: 0.0080 - acc: 0.9989\n",
      "Epoch 41/42\n",
      "10/10 [==============================] - 4s 421ms/step - loss: 0.0075 - acc: 0.9990\n",
      "Epoch 42/42\n",
      "10/10 [==============================] - 4s 411ms/step - loss: 0.0070 - acc: 0.9992\n"
     ]
    },
    {
     "data": {
      "text/plain": [
       "<keras.callbacks.History at 0x7fc668a82438>"
      ]
     },
     "execution_count": 4,
     "metadata": {},
     "output_type": "execute_result"
    }
   ],
   "source": [
    "#Train model\n",
    "model.fit(X_train ,Y_train, steps_per_epoch = 10, epochs = 42)"
   ]
  },
  {
   "cell_type": "code",
   "execution_count": 5,
   "metadata": {
    "collapsed": true
   },
   "outputs": [],
   "source": [
    "# Test model\n",
    "y_pred = model.predict(X_test)"
   ]
  },
  {
   "cell_type": "code",
   "execution_count": 6,
   "metadata": {
    "collapsed": true
   },
   "outputs": [],
   "source": [
    "#Converting one hot vectors to labels\n",
    "labels = np.argmax(y_pred, axis=1)\n",
    "index = np.arange(1, 28001)\n",
    "labels = labels.reshape([len(labels), 1])\n",
    "index = index.reshape([len(index), 1])\n",
    "final = np.concatenate([index, labels], axis=1)\n",
    "\n",
    "#Prediction csv file\n",
    "np.savetxt(\"results_mnist.csv\", final, delimiter = \" \", fmt = '%s')"
   ]
  },
  {
   "cell_type": "code",
   "execution_count": null,
   "metadata": {
    "collapsed": true
   },
   "outputs": [],
   "source": []
  }
 ],
 "metadata": {
  "kernelspec": {
   "display_name": "Python 2",
   "language": "python",
   "name": "python2"
  },
  "language_info": {
   "codemirror_mode": {
    "name": "ipython",
    "version": 2
   },
   "file_extension": ".py",
   "mimetype": "text/x-python",
   "name": "python",
   "nbconvert_exporter": "python",
   "pygments_lexer": "ipython2",
   "version": "2.7.14"
  }
 },
 "nbformat": 4,
 "nbformat_minor": 2
}
